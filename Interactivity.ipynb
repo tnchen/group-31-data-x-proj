{
 "cells": [
  {
   "cell_type": "markdown",
   "metadata": {},
   "source": [
    "# Interactivity"
   ]
  },
  {
   "cell_type": "code",
   "execution_count": 31,
   "metadata": {},
   "outputs": [],
   "source": [
    "# Import necessary packages\n",
    "import pandas as pd\n",
    "import numpy as np\n",
    "import matplotlib.pyplot as plt\n",
    "import os\n",
    "from pathlib import Path\n",
    "from ipywidgets import widgets, Layout\n",
    "import folium\n",
    "from IPython.display import clear_output"
   ]
  },
  {
   "cell_type": "markdown",
   "metadata": {},
   "source": [
    "# Get and Collapse Data by State, County"
   ]
  },
  {
   "cell_type": "code",
   "execution_count": 32,
   "metadata": {
    "scrolled": true
   },
   "outputs": [],
   "source": [
    "# Get cleaned gun violence master dataset and states data\n",
    "directory = os.path.dirname(str(Path().resolve()) + '\\\\')\n",
    "path = os.path.join(directory, 'data', 'final_data.csv')\n",
    "gunViolence = pd.read_csv(path)\n",
    "gunViolence.fillna(0, inplace=True)  # Fill in nans w/ zeros"
   ]
  },
  {
   "cell_type": "code",
   "execution_count": 33,
   "metadata": {},
   "outputs": [],
   "source": [
    "stateCols = ['state', 'Mental_Health_Records_Submitted_2008', 'Mental_Health_Records_Submitted_2017', 'Gun_Sale_Denials_2008', \n",
    "             'Gun_Sale_Denials_2017', 'Giffords Gun Safety Score',  'Gun Deaths per 100k People (2018)', \n",
    "             'Gun Death Rate (Ranked High to Low)', '# of guns per capita', '# of guns registered', 'Permit Type',  \n",
    "             'Handgun_Carry_Permit_Fee', 'Years_Valid', '5_Year_Cost', 'Happiness Score']\n",
    "\n",
    "stateData = gunViolence[stateCols].drop_duplicates('state')"
   ]
  },
  {
   "cell_type": "markdown",
   "metadata": {},
   "source": [
    "# Display Interactive Map with Data by State (Most Recent Code)"
   ]
  },
  {
   "cell_type": "code",
   "execution_count": 34,
   "metadata": {},
   "outputs": [],
   "source": [
    "# embed_map function written by user: ocefpaf to patch folium rendering issue with > 80 objects in Google Chrome\n",
    "def embed_map(m):\n",
    "    from IPython.display import IFrame\n",
    "    m.save('index.html')\n",
    "    return IFrame('index.html', width='100%', height='650px')\n",
    "\n",
    "# Define list of factors that should be plotted with high values as red instead of green\n",
    "badFactorsList = ['Gun_Death_Rate_2018 (per 100k people)', '# of guns per capita', '# of guns registered',]\n",
    "def getColor(col):\n",
    "    if (col in badFactorsList):\n",
    "        return 'OrRd'\n",
    "    else:\n",
    "        return 'YlGn'"
   ]
  },
  {
   "cell_type": "code",
   "execution_count": 35,
   "metadata": {},
   "outputs": [
    {
     "data": {
      "application/vnd.jupyter.widget-view+json": {
       "model_id": "9a2cd649c3e14c1c862a29b1a26c40c3",
       "version_major": 2,
       "version_minor": 0
      },
      "text/plain": [
       "Dropdown(description='Factor to Plot:', index=5, layout=Layout(width='40%'), options=('Mental_Health_Records_S…"
      ]
     },
     "metadata": {},
     "output_type": "display_data"
    },
    {
     "data": {
      "application/vnd.jupyter.widget-view+json": {
       "model_id": "957c88066a374a4dbbd8952335d5a7dc",
       "version_major": 2,
       "version_minor": 0
      },
      "text/plain": [
       "IntSlider(value=100, description='Number of Incidents:', layout=Layout(width='40%'), max=5000, step=100, style…"
      ]
     },
     "metadata": {},
     "output_type": "display_data"
    },
    {
     "data": {
      "application/vnd.jupyter.widget-view+json": {
       "model_id": "02d4420ac09a495a8f639ef9e38b86c2",
       "version_major": 2,
       "version_minor": 0
      },
      "text/plain": [
       "Button(description='Go!', style=ButtonStyle())"
      ]
     },
     "metadata": {},
     "output_type": "display_data"
    },
    {
     "data": {
      "text/html": [
       "\n",
       "        <iframe\n",
       "            width=\"100%\"\n",
       "            height=\"650px\"\n",
       "            src=\"index.html\"\n",
       "            frameborder=\"0\"\n",
       "            allowfullscreen\n",
       "        ></iframe>\n",
       "        "
      ],
      "text/plain": [
       "<IPython.lib.display.IFrame at 0x1be60457f28>"
      ]
     },
     "metadata": {},
     "output_type": "display_data"
    }
   ],
   "source": [
    "# Create interactive widgets with mapping function\n",
    "dropdown = widgets.Dropdown(\n",
    "    options=stateData.columns.values[1:],\n",
    "    value='5_Year_Cost',\n",
    "    description='Factor to Plot:',\n",
    "    disabled=False,\n",
    "    layout=Layout(width='40%'),\n",
    "    style={'description_width': 'initial'}\n",
    ")\n",
    "\n",
    "slider = widgets.IntSlider(min=0,max=5000,step=100,value=100,description='Number of Incidents:',layout=Layout(width='40%'),style={'description_width': 'initial'})\n",
    "button = widgets.Button(description = \"Go!\")\n",
    "display(dropdown)\n",
    "display(slider)\n",
    "display(button)\n",
    "\n",
    "def on_button_clicked(b):\n",
    "    clear_output()\n",
    "    display(dropdown)\n",
    "    display(slider)\n",
    "    display(button)\n",
    "    folium_map = folium.Map(location=[35, -97], zoom_start=4, tiles=\"Mapbox Bright\")   \n",
    "\n",
    "    folium.Choropleth(\n",
    "        geo_data='us_states_20m.json',\n",
    "        name=dropdown.value,\n",
    "        data=stateData,\n",
    "        columns=['state', dropdown.value],\n",
    "        key_on='feature.properties.NAME',\n",
    "        fill_color=getColor(dropdown.value),\n",
    "        fill_opacity=0.5,\n",
    "        line_opacity=0.2,\n",
    "        legend_name=dropdown.value\n",
    "    ).add_to(folium_map)\n",
    "    \n",
    "    folium.LayerControl().add_to(folium_map)\n",
    "    \n",
    "    for i, row in gunViolence.sample(frac=1).head(slider.value).iterrows():\n",
    "        marker = folium.CircleMarker(location=[row['latitude'], row['longitude']], radius = (row['n_killed'] + row['n_injured']))\n",
    "        marker.add_to(folium_map)\n",
    "    toDisp = embed_map(folium_map)\n",
    "    display(toDisp)\n",
    "\n",
    "button.on_click(on_button_clicked)"
   ]
  },
  {
   "cell_type": "markdown",
   "metadata": {},
   "source": [
    "# Subcomponent Demonstration Code"
   ]
  },
  {
   "cell_type": "code",
   "execution_count": 42,
   "metadata": {},
   "outputs": [
    {
     "data": {
      "text/plain": [
       "<folium.map.LayerControl at 0x12aff410>"
      ]
     },
     "execution_count": 42,
     "metadata": {},
     "output_type": "execute_result"
    }
   ],
   "source": [
    "# Simple Overlay Demonstration (no Data)\n",
    "\n",
    "def embed_map(m):\n",
    "    from IPython.display import IFrame\n",
    "\n",
    "    m.save('index.html')\n",
    "    return IFrame('index.html', width='100%', height='750px')\n",
    "\n",
    "folium_map = folium.Map(location=[35, -97],\n",
    "                        zoom_start=4,\n",
    "                        tiles=\"Mapbox Bright\")\n",
    "folium.GeoJson('us_counties_20m.json', name='US Counties').add_to(folium_map)\n",
    "folium.GeoJson('us_states_20m.json', name='US States').add_to(folium_map)\n",
    "folium.LayerControl().add_to(folium_map)\n",
    "embed_map(folium_map)"
   ]
  },
  {
   "cell_type": "code",
   "execution_count": 41,
   "metadata": {},
   "outputs": [
    {
     "data": {
      "application/vnd.jupyter.widget-view+json": {
       "model_id": "d1a5a1de59884c739e478728381ef1f5",
       "version_major": 2,
       "version_minor": 0
      },
      "text/plain": [
       "IntSlider(value=100, description='Number of Incidents:', layout=Layout(width='40%'), max=5000, step=100, style…"
      ]
     },
     "metadata": {},
     "output_type": "display_data"
    },
    {
     "data": {
      "application/vnd.jupyter.widget-view+json": {
       "model_id": "23edafc4fdee4ba0afeb871701817b14",
       "version_major": 2,
       "version_minor": 0
      },
      "text/plain": [
       "Button(description='Go!', style=ButtonStyle())"
      ]
     },
     "metadata": {},
     "output_type": "display_data"
    }
   ],
   "source": [
    "# Widget Demonstration Code\n",
    "\n",
    "button = widgets.Button(description = \"Go!\")\n",
    "slider = widgets.IntSlider(min=0,max=5000,step=100,value=100,description='Number of Incidents:',layout=Layout(width='40%'),style={'description_width': 'initial'})\n",
    "display(slider)\n",
    "display(button)\n",
    "\n",
    "def on_button_clicked(b):\n",
    "    clear_output()\n",
    "    display(slider)\n",
    "    display(button)\n",
    "    folium_map = folium.Map(location=[35, -97],\n",
    "                            zoom_start=4,\n",
    "                            tiles=\"Mapbox Bright\")\n",
    "    for i, row in gunViolence.head(slider.value).iterrows():\n",
    "        marker = folium.CircleMarker(location=[row['latitude'], row['longitude']], radius = (row['n_killed'] + row['n_injured']))\n",
    "        marker.add_to(folium_map)\n",
    "    display(folium_map)\n",
    "\n",
    "button.on_click(on_button_clicked)"
   ]
  },
  {
   "cell_type": "code",
   "execution_count": null,
   "metadata": {},
   "outputs": [],
   "source": []
  }
 ],
 "metadata": {
  "kernelspec": {
   "display_name": "Python 3",
   "language": "python",
   "name": "python3"
  },
  "language_info": {
   "codemirror_mode": {
    "name": "ipython",
    "version": 3
   },
   "file_extension": ".py",
   "mimetype": "text/x-python",
   "name": "python",
   "nbconvert_exporter": "python",
   "pygments_lexer": "ipython3",
   "version": "3.7.2"
  }
 },
 "nbformat": 4,
 "nbformat_minor": 2
}
