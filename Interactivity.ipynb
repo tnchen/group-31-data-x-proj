{
 "cells": [
  {
   "cell_type": "markdown",
   "metadata": {},
   "source": [
    "# Interactivity"
   ]
  },
  {
   "cell_type": "code",
   "execution_count": 1,
   "metadata": {},
   "outputs": [],
   "source": [
    "# Import necessary packages\n",
    "import pandas as pd\n",
    "import numpy as np\n",
    "import matplotlib.pyplot as plt\n",
    "import os\n",
    "from pathlib import Path\n",
    "from ipywidgets import widgets, Layout\n",
    "import folium\n",
    "from folium.plugins import MarkerCluster\n",
    "from IPython.display import clear_output\n"
   ]
  },
  {
   "cell_type": "markdown",
   "metadata": {},
   "source": [
    "# Get and Collapse Data by State, County"
   ]
  },
  {
   "cell_type": "code",
   "execution_count": 2,
   "metadata": {
    "scrolled": true
   },
   "outputs": [],
   "source": [
    "# Get cleaned gun violence master dataset and states data\n",
    "directory = os.path.dirname(str(Path().resolve()) + '\\\\')\n",
    "path = os.path.join(directory, 'data', 'final_data.csv')\n",
    "gunViolence = pd.read_csv(path)\n",
    "\n",
    "path = os.path.join(directory, 'data', 'county_unemployment.csv')\n",
    "countyData = pd.read_csv(path)\n",
    "\n",
    "path = os.path.join(directory, 'data', 'predictions.csv')\n",
    "predictions = pd.read_csv(path)"
   ]
  },
  {
   "cell_type": "code",
   "execution_count": 3,
   "metadata": {},
   "outputs": [],
   "source": [
    "predictionsSub = predictions[((predictions['year']==2019) & (predictions['month']==1))]\n",
    "predictionsSub = predictionsSub.drop(columns=['year', 'month', 'Gun Death Rate (Ranked High to Low)', 'Gun Denials 2008', 'Mental Health 2008', 'Gun Ownership Rank', 'Gun Denials 2017'])\n",
    "\n",
    "def decode(row):\n",
    "    for c in predictionsSub.columns:\n",
    "        if row[c] == 1:\n",
    "            return c\n",
    "predictionsSub['State'] = predictionsSub.apply(decode, axis=1)\n",
    "predictionsSub = predictionsSub[['State', 'predictions']]"
   ]
  },
  {
   "cell_type": "code",
   "execution_count": 4,
   "metadata": {},
   "outputs": [],
   "source": [
    "stateGeom = pd.read_json('data/us_states_20m.json')\n",
    "for i in range(len(stateGeom['features'])):\n",
    "    stateGeom['type'][i] = stateGeom['features'][i]['properties']['NAME']\n",
    "    stateGeom['features'][i] = stateGeom['features'][i]['geometry']\n",
    "stateGeom.rename(columns={'type':'State',\n",
    "                          'features':'Geometry'}, \n",
    "                 inplace=True)"
   ]
  },
  {
   "cell_type": "code",
   "execution_count": 5,
   "metadata": {},
   "outputs": [],
   "source": [
    "stateCols = ['state', 'Mental_Health_Records_Submitted_2008', 'Mental_Health_Records_Submitted_2017', 'Gun_Sale_Denials_2008', \n",
    "             'Gun_Sale_Denials_2017', 'Giffords Gun Safety Score',  'Gun Deaths per 100k People (2018)', \n",
    "             'Gun Death Rate (Ranked High to Low)', '# of guns per capita', '# of guns registered', 'Permit Type',  \n",
    "             'Handgun_Carry_Permit_Fee', 'Years_Valid', '5_Year_Cost', 'Happiness Score']\n",
    "countyCols = ['County', 'Rate']\n",
    "stateData = gunViolence[stateCols].drop_duplicates('state')\n",
    "countyData = countyData[countyCols].drop_duplicates('County')\n",
    "countyData.columns.values[1] = '2015 Unemployment Rate'\n",
    "countyData = countyData.reset_index()\n",
    "stateData = stateData.reset_index()\n",
    "stateData = stateData.drop(columns=['index'])\n",
    "countyData = countyData[['County', '2015 Unemployment Rate']]\n",
    "countyData['County'] = countyData['County'].str.replace(' County', '', regex=True)\n",
    "stateData = stateGeom.merge(stateData, left_on='State', right_on='state')\n",
    "stateData = stateData.drop(columns=['state'])\n",
    "stateData = stateData.merge(predictionsSub, left_on='State', right_on='State')"
   ]
  },
  {
   "cell_type": "code",
   "execution_count": 6,
   "metadata": {},
   "outputs": [],
   "source": [
    "#Rename StateData\n",
    "stateData.rename(columns={'predictions':'# Predicted Incidents (2019)',\n",
    "                          '5_Year_Cost':'5-Year Gun Ownership Cost (USD)',\n",
    "                          'Handgun_Carry_Permit_Fee':'Handgun Carry Permit Fee (USD)',\n",
    "                          'Years_Valid':'Permit Term (Years)',\n",
    "                          'Mental_Health_Records_Submitted_2008':'Mental Health Records Submitted (2008)',\n",
    "                          'Mental_Health_Records_Submitted_2017':'Mental Health Records Submitted (2017)',\n",
    "                          'Gun_Sale_Denials_2008':'Gun Sale Denials (2008)',\n",
    "                          'Gun_Sale_Denials_2017':'Gun Sale Denials (2017)'\n",
    "                         }, \n",
    "                 inplace=True)\n",
    "dropdownOptions = np.concatenate([stateData.columns.values[2:],countyData.columns.values[1:]])"
   ]
  },
  {
   "cell_type": "markdown",
   "metadata": {},
   "source": [
    "# Display Interactive Map with Data by State (Most Recent Code)"
   ]
  },
  {
   "cell_type": "code",
   "execution_count": 7,
   "metadata": {},
   "outputs": [],
   "source": [
    "# embed_map function written by user: ocefpaf to patch folium rendering issue with > 80 objects in Google Chrome\n",
    "def embed_map(m):\n",
    "    from IPython.display import IFrame\n",
    "    m.save('index.html')\n",
    "    return IFrame('index.html', width='100%', height='650px')\n",
    "\n",
    "# Define list of factors that should be plotted with high values as red instead of green\n",
    "badFactorsList = ['Gun Deaths per 100k People (2018)', '# of guns per capita', '# of guns registered','2015 Unemployment Rate']\n",
    "def getColColor(col):\n",
    "    if (col in badFactorsList):\n",
    "        return 'OrRd'\n",
    "    else:\n",
    "        return 'YlGn'\n",
    "    \n",
    "def getMarkerColor(n_killed):\n",
    "    if (n_killed == 0):\n",
    "        return '#ffff00'\n",
    "    elif (n_killed < 2):\n",
    "        return '#f8d568'\n",
    "    elif (n_killed < 5):\n",
    "        return '#ffa500'\n",
    "    else:\n",
    "        return '#ff0000'"
   ]
  },
  {
   "cell_type": "code",
   "execution_count": 10,
   "metadata": {
    "scrolled": false
   },
   "outputs": [
    {
     "data": {
      "application/vnd.jupyter.widget-view+json": {
       "model_id": "0463e517236046738100b4fd3e495eed",
       "version_major": 2,
       "version_minor": 0
      },
      "text/html": [
       "<p>Failed to display Jupyter Widget of type <code>Dropdown</code>.</p>\n",
       "<p>\n",
       "  If you're reading this message in the Jupyter Notebook or JupyterLab Notebook, it may mean\n",
       "  that the widgets JavaScript is still loading. If this message persists, it\n",
       "  likely means that the widgets JavaScript library is either not installed or\n",
       "  not enabled. See the <a href=\"https://ipywidgets.readthedocs.io/en/stable/user_install.html\">Jupyter\n",
       "  Widgets Documentation</a> for setup instructions.\n",
       "</p>\n",
       "<p>\n",
       "  If you're reading this message in another frontend (for example, a static\n",
       "  rendering on GitHub or <a href=\"https://nbviewer.jupyter.org/\">NBViewer</a>),\n",
       "  it may mean that your frontend doesn't currently support widgets.\n",
       "</p>\n"
      ],
      "text/plain": [
       "Dropdown(description='Factor to Plot:', index=12, layout=Layout(width='40%'), options=('Mental Health Records Submitted (2008)', 'Mental Health Records Submitted (2017)', 'Gun Sale Denials (2008)', 'Gun Sale Denials (2017)', 'Giffords Gun Safety Score', 'Gun Deaths per 100k People (2018)', 'Gun Death Rate (Ranked High to Low)', '# of guns per capita', '# of guns registered', 'Permit Type', 'Handgun Carry Permit Fee (USD)', 'Permit Term (Years)', '5-Year Gun Ownership Cost (USD)', 'Happiness Score', '# Predicted Incidents (2019)', '2015 Unemployment Rate'), style=DescriptionStyle(description_width='initial'), value='5-Year Gun Ownership Cost (USD)')"
      ]
     },
     "metadata": {},
     "output_type": "display_data"
    },
    {
     "data": {
      "application/vnd.jupyter.widget-view+json": {
       "model_id": "ddcdf783f1bc45f0a9a9afdc0e3507d9",
       "version_major": 2,
       "version_minor": 0
      },
      "text/html": [
       "<p>Failed to display Jupyter Widget of type <code>IntSlider</code>.</p>\n",
       "<p>\n",
       "  If you're reading this message in the Jupyter Notebook or JupyterLab Notebook, it may mean\n",
       "  that the widgets JavaScript is still loading. If this message persists, it\n",
       "  likely means that the widgets JavaScript library is either not installed or\n",
       "  not enabled. See the <a href=\"https://ipywidgets.readthedocs.io/en/stable/user_install.html\">Jupyter\n",
       "  Widgets Documentation</a> for setup instructions.\n",
       "</p>\n",
       "<p>\n",
       "  If you're reading this message in another frontend (for example, a static\n",
       "  rendering on GitHub or <a href=\"https://nbviewer.jupyter.org/\">NBViewer</a>),\n",
       "  it may mean that your frontend doesn't currently support widgets.\n",
       "</p>\n"
      ],
      "text/plain": [
       "IntSlider(value=2015, description='Year:', layout=Layout(width='40%'), max=2018, min=2014, style=SliderStyle(description_width='initial'))"
      ]
     },
     "metadata": {},
     "output_type": "display_data"
    },
    {
     "data": {
      "application/vnd.jupyter.widget-view+json": {
       "model_id": "36a4c51106b2474788879154414c23a6",
       "version_major": 2,
       "version_minor": 0
      },
      "text/html": [
       "<p>Failed to display Jupyter Widget of type <code>IntSlider</code>.</p>\n",
       "<p>\n",
       "  If you're reading this message in the Jupyter Notebook or JupyterLab Notebook, it may mean\n",
       "  that the widgets JavaScript is still loading. If this message persists, it\n",
       "  likely means that the widgets JavaScript library is either not installed or\n",
       "  not enabled. See the <a href=\"https://ipywidgets.readthedocs.io/en/stable/user_install.html\">Jupyter\n",
       "  Widgets Documentation</a> for setup instructions.\n",
       "</p>\n",
       "<p>\n",
       "  If you're reading this message in another frontend (for example, a static\n",
       "  rendering on GitHub or <a href=\"https://nbviewer.jupyter.org/\">NBViewer</a>),\n",
       "  it may mean that your frontend doesn't currently support widgets.\n",
       "</p>\n"
      ],
      "text/plain": [
       "IntSlider(value=500, description='Number of Incidents:', layout=Layout(width='40%'), max=20000, step=100, style=SliderStyle(description_width='initial'))"
      ]
     },
     "metadata": {},
     "output_type": "display_data"
    },
    {
     "data": {
      "application/vnd.jupyter.widget-view+json": {
       "model_id": "50c61484155e444681da4db22ccf4618",
       "version_major": 2,
       "version_minor": 0
      },
      "text/html": [
       "<p>Failed to display Jupyter Widget of type <code>Button</code>.</p>\n",
       "<p>\n",
       "  If you're reading this message in the Jupyter Notebook or JupyterLab Notebook, it may mean\n",
       "  that the widgets JavaScript is still loading. If this message persists, it\n",
       "  likely means that the widgets JavaScript library is either not installed or\n",
       "  not enabled. See the <a href=\"https://ipywidgets.readthedocs.io/en/stable/user_install.html\">Jupyter\n",
       "  Widgets Documentation</a> for setup instructions.\n",
       "</p>\n",
       "<p>\n",
       "  If you're reading this message in another frontend (for example, a static\n",
       "  rendering on GitHub or <a href=\"https://nbviewer.jupyter.org/\">NBViewer</a>),\n",
       "  it may mean that your frontend doesn't currently support widgets.\n",
       "</p>\n"
      ],
      "text/plain": [
       "Button(description='Go!', style=ButtonStyle())"
      ]
     },
     "metadata": {},
     "output_type": "display_data"
    },
    {
     "data": {
      "text/html": [
       "\n",
       "        <iframe\n",
       "            width=\"100%\"\n",
       "            height=\"650px\"\n",
       "            src=\"index.html\"\n",
       "            frameborder=\"0\"\n",
       "            allowfullscreen\n",
       "        ></iframe>\n",
       "        "
      ],
      "text/plain": [
       "<IPython.lib.display.IFrame at 0x191ede63128>"
      ]
     },
     "metadata": {},
     "output_type": "display_data"
    }
   ],
   "source": [
    "dropdown = widgets.Dropdown(\n",
    "    options=dropdownOptions,\n",
    "    value='5-Year Gun Ownership Cost (USD)',\n",
    "    description='Factor to Plot:',\n",
    "    disabled=False,\n",
    "    layout=Layout(width='40%'),\n",
    "    style={'description_width': 'initial'}\n",
    ")\n",
    "\n",
    "yearSlider = widgets.IntSlider(min=2014,max=2018,step=1,value=2015,description='Year:',layout=Layout(width='40%'),style={'description_width': 'initial'})\n",
    "numSlider = widgets.IntSlider(min=0,max=20000,step=100,value=500,description='Number of Incidents:',layout=Layout(width='40%'),style={'description_width': 'initial'})\n",
    "button = widgets.Button(description = \"Go!\")\n",
    "\n",
    "display(dropdown)\n",
    "display(yearSlider)\n",
    "display(numSlider)\n",
    "display(button)\n",
    "\n",
    "\n",
    "def on_button_clicked(b):\n",
    "    clear_output()\n",
    "    display(dropdown)\n",
    "    display(yearSlider)\n",
    "    display(numSlider)\n",
    "    display(button)\n",
    "    folium_map = folium.Map(location=[35, -97], zoom_start=4, tiles=\"Mapbox Bright\")   \n",
    "    cluster = MarkerCluster(name='Gun Violence Incidents')\n",
    "    for i, row in gunViolence[gunViolence['year'] == yearSlider.value].sample(frac=1).head(numSlider.value).iterrows():\n",
    "        cluster.add_child(folium.CircleMarker(location=[row.latitude,row.longitude], radius =5*(row.n_killed+row.n_injured), fill=True, color=getMarkerColor(row.n_killed), popup=folium.Popup('Date: '+str(row.month)+'-'+str(row.day)+'-'+str(row.year)+'\\nLives Lost: '+str(row.n_killed),max_width=200)))\n",
    "    folium_map.add_child(cluster)\n",
    "    \n",
    "    if (dropdown.value == '2015 Unemployment Rate'):\n",
    "        folium.Choropleth(\n",
    "            geo_data='data/us_counties_20m.json',\n",
    "            name=dropdown.value,\n",
    "            data=countyData,\n",
    "            columns=['County', dropdown.value],\n",
    "            key_on='feature.properties.NAME',\n",
    "            fill_color=getColColor(dropdown.value),\n",
    "            fill_opacity=0.5,\n",
    "            line_opacity=0.2,\n",
    "            legend_name=dropdown.value\n",
    "        ).add_to(folium_map)\n",
    "    else:\n",
    "        folium.Choropleth(\n",
    "            geo_data='data/us_states_20m.json',\n",
    "            name=dropdown.value,\n",
    "            data=stateData,\n",
    "            columns=['State', dropdown.value],\n",
    "            key_on='feature.properties.NAME',\n",
    "            fill_color=getColColor(dropdown.value),\n",
    "            fill_opacity=0.5,\n",
    "            line_opacity=0.2,\n",
    "            legend_name=dropdown.value\n",
    "        ).add_to(folium_map)\n",
    "\n",
    "    folium.LayerControl().add_to(folium_map)\n",
    "    toDisp = embed_map(folium_map)\n",
    "    display(toDisp)\n",
    "\n",
    "button.on_click(on_button_clicked)"
   ]
  },
  {
   "cell_type": "markdown",
   "metadata": {},
   "source": [
    "# Subcomponent Demonstration Code"
   ]
  },
  {
   "cell_type": "code",
   "execution_count": 8,
   "metadata": {},
   "outputs": [
    {
     "data": {
      "application/vnd.jupyter.widget-view+json": {
       "model_id": "06e944b7f05e421c9353c50cd93dff07",
       "version_major": 2,
       "version_minor": 0
      },
      "text/html": [
       "<p>Failed to display Jupyter Widget of type <code>Dropdown</code>.</p>\n",
       "<p>\n",
       "  If you're reading this message in the Jupyter Notebook or JupyterLab Notebook, it may mean\n",
       "  that the widgets JavaScript is still loading. If this message persists, it\n",
       "  likely means that the widgets JavaScript library is either not installed or\n",
       "  not enabled. See the <a href=\"https://ipywidgets.readthedocs.io/en/stable/user_install.html\">Jupyter\n",
       "  Widgets Documentation</a> for setup instructions.\n",
       "</p>\n",
       "<p>\n",
       "  If you're reading this message in another frontend (for example, a static\n",
       "  rendering on GitHub or <a href=\"https://nbviewer.jupyter.org/\">NBViewer</a>),\n",
       "  it may mean that your frontend doesn't currently support widgets.\n",
       "</p>\n"
      ],
      "text/plain": [
       "Dropdown(description='Factor to Plot:', index=12, layout=Layout(width='40%'), options=('Mental_Health_Records_Submitted_2008', 'Mental_Health_Records_Submitted_2017', 'Gun_Sale_Denials_2008', 'Gun_Sale_Denials_2017', 'Giffords Gun Safety Score', 'Gun Deaths per 100k People (2018)', 'Gun Death Rate (Ranked High to Low)', '# of guns per capita', '# of guns registered', 'Permit Type', 'Handgun_Carry_Permit_Fee', 'Years_Valid', '5_Year_Cost', 'Happiness Score'), style=DescriptionStyle(description_width='initial'), value='5_Year_Cost')"
      ]
     },
     "metadata": {},
     "output_type": "display_data"
    },
    {
     "data": {
      "application/vnd.jupyter.widget-view+json": {
       "model_id": "2ee6b5a47ba145a292479254ff0f7056",
       "version_major": 2,
       "version_minor": 0
      },
      "text/html": [
       "<p>Failed to display Jupyter Widget of type <code>IntSlider</code>.</p>\n",
       "<p>\n",
       "  If you're reading this message in the Jupyter Notebook or JupyterLab Notebook, it may mean\n",
       "  that the widgets JavaScript is still loading. If this message persists, it\n",
       "  likely means that the widgets JavaScript library is either not installed or\n",
       "  not enabled. See the <a href=\"https://ipywidgets.readthedocs.io/en/stable/user_install.html\">Jupyter\n",
       "  Widgets Documentation</a> for setup instructions.\n",
       "</p>\n",
       "<p>\n",
       "  If you're reading this message in another frontend (for example, a static\n",
       "  rendering on GitHub or <a href=\"https://nbviewer.jupyter.org/\">NBViewer</a>),\n",
       "  it may mean that your frontend doesn't currently support widgets.\n",
       "</p>\n"
      ],
      "text/plain": [
       "IntSlider(value=100, description='Number of Incidents:', layout=Layout(width='40%'), max=1000, step=100, style=SliderStyle(description_width='initial'))"
      ]
     },
     "metadata": {},
     "output_type": "display_data"
    },
    {
     "data": {
      "application/vnd.jupyter.widget-view+json": {
       "model_id": "200574df0e1c4cc698a42b6e55cc2fa3",
       "version_major": 2,
       "version_minor": 0
      },
      "text/html": [
       "<p>Failed to display Jupyter Widget of type <code>Button</code>.</p>\n",
       "<p>\n",
       "  If you're reading this message in the Jupyter Notebook or JupyterLab Notebook, it may mean\n",
       "  that the widgets JavaScript is still loading. If this message persists, it\n",
       "  likely means that the widgets JavaScript library is either not installed or\n",
       "  not enabled. See the <a href=\"https://ipywidgets.readthedocs.io/en/stable/user_install.html\">Jupyter\n",
       "  Widgets Documentation</a> for setup instructions.\n",
       "</p>\n",
       "<p>\n",
       "  If you're reading this message in another frontend (for example, a static\n",
       "  rendering on GitHub or <a href=\"https://nbviewer.jupyter.org/\">NBViewer</a>),\n",
       "  it may mean that your frontend doesn't currently support widgets.\n",
       "</p>\n"
      ],
      "text/plain": [
       "Button(description='Go!', style=ButtonStyle())"
      ]
     },
     "metadata": {},
     "output_type": "display_data"
    }
   ],
   "source": [
    "# Testing for Marker Clusters\n",
    "# Create interactive widgets with mapping function\n",
    "dropdown = widgets.Dropdown(\n",
    "    options=stateData.columns.values[1:],\n",
    "    value='5_Year_Cost',\n",
    "    description='Factor to Plot:',\n",
    "    disabled=False,\n",
    "    layout=Layout(width='40%'),\n",
    "    style={'description_width': 'initial'}\n",
    ")\n",
    "\n",
    "slider = widgets.IntSlider(min=0,max=1000,step=100,value=100,description='Number of Incidents:',layout=Layout(width='40%'),style={'description_width': 'initial'})\n",
    "button = widgets.Button(description = \"Go!\")\n",
    "display(dropdown)\n",
    "display(slider)\n",
    "display(button)\n",
    "\n",
    "\n",
    "def on_button_clicked(b):\n",
    "    clear_output()\n",
    "    display(dropdown)\n",
    "    display(slider)\n",
    "    display(button)\n",
    "    folium_map = folium.Map(location=[35, -97], zoom_start=4, tiles=\"Mapbox Bright\")   \n",
    "    cluster = MarkerCluster()\n",
    "    for i, row in gunViolence.sample(frac=1).head(slider.value).iterrows():\n",
    "        cluster.add_child(folium.CircleMarker(location=[row.latitude,  row.longitude], radius = 5*(row.n_killed + row.n_injured), popup = 'Lives Lost: ' + str(row.n_killed)))\n",
    "    folium_map.add_child(cluster)\n",
    "    folium.Choropleth(\n",
    "        geo_data='data/us_states_20m.json',\n",
    "        name=dropdown.value,\n",
    "        data=stateData,\n",
    "        columns=['state', dropdown.value],\n",
    "        key_on='feature.properties.NAME',\n",
    "        fill_color=getColor(dropdown.value),\n",
    "        fill_opacity=0.5,\n",
    "        line_opacity=0.2,\n",
    "        legend_name=dropdown.value\n",
    "    ).add_to(folium_map)\n",
    "    folium.LayerControl().add_to(folium_map)\n",
    "    toDisp = embed_map(folium_map)\n",
    "    display(toDisp)\n",
    "\n",
    "button.on_click(on_button_clicked)"
   ]
  },
  {
   "cell_type": "code",
   "execution_count": 12,
   "metadata": {},
   "outputs": [
    {
     "data": {
      "text/html": [
       "\n",
       "        <iframe\n",
       "            width=\"100%\"\n",
       "            height=\"750px\"\n",
       "            src=\"index.html\"\n",
       "            frameborder=\"0\"\n",
       "            allowfullscreen\n",
       "        ></iframe>\n",
       "        "
      ],
      "text/plain": [
       "<IPython.lib.display.IFrame at 0x129a2b10>"
      ]
     },
     "execution_count": 12,
     "metadata": {},
     "output_type": "execute_result"
    }
   ],
   "source": [
    "# Simple Overlay Demonstration (no Data)\n",
    "\n",
    "def embed_map(m):\n",
    "    from IPython.display import IFrame\n",
    "\n",
    "    m.save('index.html')\n",
    "    return IFrame('index.html', width='100%', height='750px')\n",
    "\n",
    "folium_map = folium.Map(location=[35, -97],\n",
    "                        zoom_start=4,\n",
    "                        tiles=\"Mapbox Bright\")\n",
    "folium.GeoJson('data/us_counties_20m.json', name='US Counties').add_to(folium_map)\n",
    "folium.GeoJson('data/us_states_20m.json', name='US States').add_to(folium_map)\n",
    "folium.LayerControl().add_to(folium_map)\n",
    "embed_map(folium_map)"
   ]
  },
  {
   "cell_type": "code",
   "execution_count": 13,
   "metadata": {},
   "outputs": [
    {
     "data": {
      "application/vnd.jupyter.widget-view+json": {
       "model_id": "b497ce25289f4f428a6df54d6de7ac02",
       "version_major": 2,
       "version_minor": 0
      },
      "text/plain": [
       "IntSlider(value=2400, description='Number of Incidents:', layout=Layout(width='40%'), max=5000, step=100, styl…"
      ]
     },
     "metadata": {},
     "output_type": "display_data"
    },
    {
     "data": {
      "application/vnd.jupyter.widget-view+json": {
       "model_id": "cc9878467bc64908bed8707054c998a1",
       "version_major": 2,
       "version_minor": 0
      },
      "text/plain": [
       "Button(description='Go!', style=ButtonStyle())"
      ]
     },
     "metadata": {},
     "output_type": "display_data"
    }
   ],
   "source": [
    "# Widget Demonstration Code\n",
    "\n",
    "button = widgets.Button(description = \"Go!\")\n",
    "slider = widgets.IntSlider(min=0,max=5000,step=100,value=100,description='Number of Incidents:',layout=Layout(width='40%'),style={'description_width': 'initial'})\n",
    "display(slider)\n",
    "display(button)\n",
    "\n",
    "def on_button_clicked(b):\n",
    "    clear_output()\n",
    "    display(slider)\n",
    "    display(button)\n",
    "    folium_map = folium.Map(location=[35, -97],\n",
    "                            zoom_start=4,\n",
    "                            tiles=\"Mapbox Bright\")\n",
    "    for i, row in gunViolence.head(slider.value).iterrows():\n",
    "        marker = folium.CircleMarker(location=[row['latitude'], row['longitude']], radius = (row['n_killed'] + row['n_injured']))\n",
    "        marker.add_to(folium_map)\n",
    "    embed_map(folium_map)\n",
    "button.on_click(on_button_clicked)"
   ]
  },
  {
   "cell_type": "code",
   "execution_count": 20,
   "metadata": {},
   "outputs": [
    {
     "data": {
      "text/html": [
       "\n",
       "        <iframe\n",
       "            width=\"100%\"\n",
       "            height=\"750px\"\n",
       "            src=\"index.html\"\n",
       "            frameborder=\"0\"\n",
       "            allowfullscreen\n",
       "        ></iframe>\n",
       "        "
      ],
      "text/plain": [
       "<IPython.lib.display.IFrame at 0x17ef6110>"
      ]
     },
     "execution_count": 20,
     "metadata": {},
     "output_type": "execute_result"
    }
   ],
   "source": [
    "folium_map = folium.Map(location=[35, -97],\n",
    "                        zoom_start=4,\n",
    "                        tiles=\"Mapbox Bright\")\n",
    "for i, row in gunViolence.sample(frac=1).head(10000).iterrows():\n",
    "    marker = folium.CircleMarker(location=[row.latitude,row.longitude], radius =2*(row.n_killed+row.n_injured), fill=True, color=getMarkerColor(row.n_killed), popup=folium.Popup('Date: '+str(row.month)+'-'+str(row.day)+'-'+str(row.year)+'\\nLives Lost: '+str(row.n_killed),max_width=200))\n",
    "    marker.add_to(folium_map)\n",
    "embed_map(folium_map)"
   ]
  },
  {
   "cell_type": "code",
   "execution_count": null,
   "metadata": {},
   "outputs": [],
   "source": []
  }
 ],
 "metadata": {
  "kernelspec": {
   "display_name": "Python 3",
   "language": "python",
   "name": "python3"
  },
  "language_info": {
   "codemirror_mode": {
    "name": "ipython",
    "version": 3
   },
   "file_extension": ".py",
   "mimetype": "text/x-python",
   "name": "python",
   "nbconvert_exporter": "python",
   "pygments_lexer": "ipython3",
   "version": "3.6.4"
  }
 },
 "nbformat": 4,
 "nbformat_minor": 2
}
