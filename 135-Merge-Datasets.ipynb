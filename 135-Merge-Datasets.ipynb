{
 "cells": [
  {
   "cell_type": "code",
   "execution_count": 1,
   "metadata": {},
   "outputs": [],
   "source": [
    "import csv\n",
    "import numpy as np\n",
    "import matplotlib.pyplot as plt\n",
    "import pandas as pd\n",
    "import re\n",
    "from pathlib import Path\n",
    "import os\n",
    "import warnings\n",
    "warnings.filterwarnings(\"ignore\")"
   ]
  },
  {
   "cell_type": "code",
   "execution_count": 2,
   "metadata": {},
   "outputs": [
    {
     "name": "stdout",
     "output_type": "stream",
     "text": [
      "Index(['incident_id', 'date', 'state', 'city_or_county', 'address', 'n_killed',\n",
      "       'n_injured', 'incident_url', 'source_url',\n",
      "       'incident_url_fields_missing', 'congressional_district', 'gun_stolen',\n",
      "       'gun_type', 'incident_characteristics', 'latitude',\n",
      "       'location_description', 'longitude', 'n_guns_involved', 'notes',\n",
      "       'participant_age', 'participant_age_group', 'participant_gender',\n",
      "       'participant_name', 'participant_relationship', 'participant_status',\n",
      "       'participant_type', 'sources', 'state_house_district',\n",
      "       'state_senate_district'],\n",
      "      dtype='object')\n"
     ]
    }
   ],
   "source": [
    "# Load raw data\n",
    "directory = os.path.dirname(str(Path().resolve()) + '\\\\')\n",
    "path = os.path.join(directory, 'data', 'gun-violence-data.csv')\n",
    "\n",
    "gun_data = pd.read_csv(path)\n",
    "print(gun_data.columns)"
   ]
  },
  {
   "cell_type": "code",
   "execution_count": 3,
   "metadata": {},
   "outputs": [
    {
     "name": "stdout",
     "output_type": "stream",
     "text": [
      "# of Incidents: 239677\n",
      "Columns: ['incident_id' 'date' 'state' 'city_or_county' 'address' 'n_killed'\n",
      " 'n_injured' 'congressional_district' 'gun_stolen' 'gun_type'\n",
      " 'incident_characteristics' 'latitude' 'longitude' 'n_guns_involved'\n",
      " 'participant_age' 'participant_gender' 'participant_name'\n",
      " 'participant_relationship' 'participant_status' 'participant_type'\n",
      " 'state_house_district' 'state_senate_district']\n"
     ]
    }
   ],
   "source": [
    "gun_data = gun_data[['incident_id', 'date', 'state', 'city_or_county', 'address', 'n_killed', 'n_injured', 'congressional_district',\n",
    "            'gun_stolen', 'gun_type', 'incident_characteristics', 'latitude', 'longitude', 'n_guns_involved', 'participant_age',\n",
    "            'participant_gender', 'participant_name', 'participant_relationship', 'participant_status', 'participant_type',\n",
    "            'state_house_district', 'state_senate_district']]\n",
    "\n",
    "print('# of Incidents: ' + str(len(gun_data)))\n",
    "print('Columns: ' + str(gun_data.columns.values))"
   ]
  },
  {
   "cell_type": "code",
   "execution_count": 4,
   "metadata": {},
   "outputs": [],
   "source": [
    "# Replace date column with year, month, and day\n",
    "gun_data.loc[:,'year'] = pd.DatetimeIndex(gun_data.loc[:,'date']).year\n",
    "gun_data.loc[:,'month'] = pd.DatetimeIndex(gun_data.loc[:,'date']).month\n",
    "gun_data.loc[:,'day'] = pd.DatetimeIndex(gun_data.loc[:,'date']).day\n",
    "cols = gun_data.columns.tolist()\n",
    "cols = cols[:1] + cols[-3:] + cols[2:-3]\n",
    "gun_data = gun_data[cols]\n",
    "\n",
    "# Remove all rows with NaN latitude or longitude\n",
    "gun_data = gun_data[np.isfinite(gun_data['latitude'])]"
   ]
  },
  {
   "cell_type": "code",
   "execution_count": 5,
   "metadata": {},
   "outputs": [],
   "source": [
    "# Load the other CSVs\n",
    "\n",
    "directory = os.path.dirname(str(Path().resolve()) + '\\\\')\n",
    "mental_health = pd.read_csv(os.path.join(directory, 'data', 'EverytownNICSMentalHealth.csv'))\n",
    "# Remove commas from number values\n",
    "mental_health[mental_health.columns] = mental_health[mental_health.columns].replace({',': ''}, regex=True)\n",
    "gun_safety = pd.read_csv(os.path.join(directory, 'data', 'GiffordsData.csv'))\n",
    "gun_ownership = pd.read_csv(os.path.join(directory, 'data', 'Gun ownership.csv'))\n",
    "happiness = pd.read_csv(os.path.join(directory, 'data', 'happiness.csv'))\n",
    "concealed_carry = pd.read_csv(os.path.join(directory, 'data', 'ConcealedCarryPrices.csv'))"
   ]
  },
  {
   "cell_type": "code",
   "execution_count": 6,
   "metadata": {},
   "outputs": [
    {
     "data": {
      "text/html": [
       "<div>\n",
       "<style scoped>\n",
       "    .dataframe tbody tr th:only-of-type {\n",
       "        vertical-align: middle;\n",
       "    }\n",
       "\n",
       "    .dataframe tbody tr th {\n",
       "        vertical-align: top;\n",
       "    }\n",
       "\n",
       "    .dataframe thead th {\n",
       "        text-align: right;\n",
       "    }\n",
       "</style>\n",
       "<table border=\"1\" class=\"dataframe\">\n",
       "  <thead>\n",
       "    <tr style=\"text-align: right;\">\n",
       "      <th></th>\n",
       "      <th>State</th>\n",
       "      <th>Giffords Gun Safety Score</th>\n",
       "      <th>Gun Deaths per 100k People (2018)</th>\n",
       "      <th>Gun Death Rate (Ranked High to Low)</th>\n",
       "    </tr>\n",
       "  </thead>\n",
       "  <tbody>\n",
       "    <tr>\n",
       "      <th>0</th>\n",
       "      <td>Alabama</td>\n",
       "      <td>1.0</td>\n",
       "      <td>22.9</td>\n",
       "      <td>2.0</td>\n",
       "    </tr>\n",
       "    <tr>\n",
       "      <th>1</th>\n",
       "      <td>Alaska</td>\n",
       "      <td>1.0</td>\n",
       "      <td>24.5</td>\n",
       "      <td>1.0</td>\n",
       "    </tr>\n",
       "    <tr>\n",
       "      <th>2</th>\n",
       "      <td>Arizona</td>\n",
       "      <td>1.0</td>\n",
       "      <td>15.7</td>\n",
       "      <td>18.0</td>\n",
       "    </tr>\n",
       "    <tr>\n",
       "      <th>3</th>\n",
       "      <td>Arkansas</td>\n",
       "      <td>1.0</td>\n",
       "      <td>20.2</td>\n",
       "      <td>7.0</td>\n",
       "    </tr>\n",
       "    <tr>\n",
       "      <th>4</th>\n",
       "      <td>California</td>\n",
       "      <td>12.0</td>\n",
       "      <td>7.8</td>\n",
       "      <td>44.0</td>\n",
       "    </tr>\n",
       "  </tbody>\n",
       "</table>\n",
       "</div>"
      ],
      "text/plain": [
       "        State  Giffords Gun Safety Score  Gun Deaths per 100k People (2018)  \\\n",
       "0     Alabama                        1.0                               22.9   \n",
       "1      Alaska                        1.0                               24.5   \n",
       "2     Arizona                        1.0                               15.7   \n",
       "3    Arkansas                        1.0                               20.2   \n",
       "4  California                       12.0                                7.8   \n",
       "\n",
       "   Gun Death Rate (Ranked High to Low)  \n",
       "0                                  2.0  \n",
       "1                                  1.0  \n",
       "2                                 18.0  \n",
       "3                                  7.0  \n",
       "4                                 44.0  "
      ]
     },
     "execution_count": 6,
     "metadata": {},
     "output_type": "execute_result"
    }
   ],
   "source": [
    "# Giffords pre-processing: Convert grades (A-F) to numbers (12-1) and rename column\n",
    "grades = {\n",
    "        'A': 12,\n",
    "        'A-': 11,\n",
    "        'B+': 10,\n",
    "        'B': 9,\n",
    "        'B-': 8,\n",
    "        'C+': 7,\n",
    "        'C': 6,\n",
    "        'C-': 5,\n",
    "        'D+': 4,\n",
    "        'D': 3,\n",
    "        'D-': 2,\n",
    "        'F': 1,\n",
    "}\n",
    "gun_safety['Giffords_Gun_Safety_Grade'] = gun_safety['Giffords_Gun_Safety_Grade'].map(grades)\n",
    "gun_safety.rename(columns={'Giffords_Gun_Safety_Grade':'Giffords Gun Safety Score', \n",
    "                          'Gun_Death_Rate_2018 (per 100k people)': 'Gun Deaths per 100k People (2018)',\n",
    "                          'Gun_Death_Rank': 'Gun Death Rate (Ranked High to Low)'}, inplace=True)\n",
    "gun_safety.head()"
   ]
  },
  {
   "cell_type": "code",
   "execution_count": 7,
   "metadata": {},
   "outputs": [],
   "source": [
    "# Happiness pre-processing: Add a new state column and update the city column\n",
    "happiness['State'] = happiness['City'].str[-2:]\n",
    "happiness['City'] = happiness['City'].str[:-4]"
   ]
  },
  {
   "cell_type": "code",
   "execution_count": 8,
   "metadata": {},
   "outputs": [],
   "source": [
    "# Happiness pre-processing: converting two-letter abbrev. to state\n",
    "states = {\n",
    "        'AK': 'Alaska',\n",
    "        'AL': 'Alabama',\n",
    "        'AR': 'Arkansas',\n",
    "        'AS': 'American Samoa',\n",
    "        'AZ': 'Arizona',\n",
    "        'CA': 'California',\n",
    "        'CO': 'Colorado',\n",
    "        'CT': 'Connecticut',\n",
    "        'DC': 'District of Columbia',\n",
    "        'DE': 'Delaware',\n",
    "        'FL': 'Florida',\n",
    "        'GA': 'Georgia',\n",
    "        'GU': 'Guam',\n",
    "        'HI': 'Hawaii',\n",
    "        'IA': 'Iowa',\n",
    "        'ID': 'Idaho',\n",
    "        'IL': 'Illinois',\n",
    "        'IN': 'Indiana',\n",
    "        'KS': 'Kansas',\n",
    "        'KY': 'Kentucky',\n",
    "        'LA': 'Louisiana',\n",
    "        'MA': 'Massachusetts',\n",
    "        'MD': 'Maryland',\n",
    "        'ME': 'Maine',\n",
    "        'MI': 'Michigan',\n",
    "        'MN': 'Minnesota',\n",
    "        'MO': 'Missouri',\n",
    "        'MP': 'Northern Mariana Islands',\n",
    "        'MS': 'Mississippi',\n",
    "        'MT': 'Montana',\n",
    "        'NA': 'National',\n",
    "        'NC': 'North Carolina',\n",
    "        'ND': 'North Dakota',\n",
    "        'NE': 'Nebraska',\n",
    "        'NH': 'New Hampshire',\n",
    "        'NJ': 'New Jersey',\n",
    "        'NM': 'New Mexico',\n",
    "        'NV': 'Nevada',\n",
    "        'NY': 'New York',\n",
    "        'OH': 'Ohio',\n",
    "        'OK': 'Oklahoma',\n",
    "        'OR': 'Oregon',\n",
    "        'PA': 'Pennsylvania',\n",
    "        'PR': 'Puerto Rico',\n",
    "        'RI': 'Rhode Island',\n",
    "        'SC': 'South Carolina',\n",
    "        'SD': 'South Dakota',\n",
    "        'TN': 'Tennessee',\n",
    "        'TX': 'Texas',\n",
    "        'UT': 'Utah',\n",
    "        'VA': 'Virginia',\n",
    "        'VI': 'Virgin Islands',\n",
    "        'VT': 'Vermont',\n",
    "        'WA': 'Washington',\n",
    "        'WI': 'Wisconsin',\n",
    "        'WV': 'West Virginia',\n",
    "        'WY': 'Wyoming'\n",
    "}\n",
    "# Add the full state name to the happiness table\n",
    "happiness['State_full'] = happiness['State'].map(states)\n",
    "\n",
    "# Create a second data table that counts how many happiness ratings we have for each state\n",
    "happiness2 = happiness.groupby('State_full').count()['City'].to_frame()\n",
    "happiness2 = happiness2.rename(index=str, columns={'City': 'Happiness Score'})"
   ]
  },
  {
   "cell_type": "code",
   "execution_count": 9,
   "metadata": {},
   "outputs": [
    {
     "name": "stdout",
     "output_type": "stream",
     "text": [
      "204102\n"
     ]
    }
   ],
   "source": [
    "# WARNING: slow code block; takes a couple of minutes\n",
    "# Extract the number of people in each incident\n",
    "num_ages = gun_data['participant_age'].str.extractall('\\d+::(\\d+)').reset_index(level=1).groupby(level=0).max()['match']\n",
    "num_genders = gun_data['participant_gender'].str.extractall('\\d+::(\\w+)').reset_index(level=1).groupby(level=0).max()['match']\n",
    "num_names = gun_data['participant_name'].str.extractall('\\d+::(\\w+\\s*\\w*)').reset_index(level=1).groupby(level=0).max()['match']\n",
    "num_relationships = gun_data['participant_relationship'].str.extractall('\\d+::(\\w+)').reset_index(level=1).groupby(level=0).max()['match']\n",
    "num_statuses = gun_data['participant_status'].str.extractall('\\d+::(\\w+)').reset_index(level=1).groupby(level=0).max()['match']\n",
    "num_types = gun_data['participant_type'].str.extractall('\\d+::(\\w+)').reset_index(level=1).groupby(level=0).max()['match']\n",
    "\n",
    "# Get the number of people in each incident by taking the max the respective categories\n",
    "num_merged = pd.concat([num_ages, num_genders, num_names, num_relationships, num_statuses, num_types], axis=1)\n",
    "all_nums = num_merged.max(axis=1, skipna=True).astype(int)\n",
    "\n",
    "# Make it into a df\n",
    "all_nums = all_nums.to_frame()\n",
    "all_nums.columns = ['n_people']\n",
    "\n",
    "# Add 1 because Python is zero indexed\n",
    "all_nums['n_people'] += 1\n",
    "\n",
    "print(len(all_nums))"
   ]
  },
  {
   "cell_type": "code",
   "execution_count": 10,
   "metadata": {},
   "outputs": [
    {
     "name": "stdout",
     "output_type": "stream",
     "text": [
      "139297\n"
     ]
    },
    {
     "data": {
      "text/html": [
       "<div>\n",
       "<style scoped>\n",
       "    .dataframe tbody tr th:only-of-type {\n",
       "        vertical-align: middle;\n",
       "    }\n",
       "\n",
       "    .dataframe tbody tr th {\n",
       "        vertical-align: top;\n",
       "    }\n",
       "\n",
       "    .dataframe thead th {\n",
       "        text-align: right;\n",
       "    }\n",
       "</style>\n",
       "<table border=\"1\" class=\"dataframe\">\n",
       "  <thead>\n",
       "    <tr style=\"text-align: right;\">\n",
       "      <th>age</th>\n",
       "      <th>n_young</th>\n",
       "      <th>n_mid</th>\n",
       "      <th>n_old</th>\n",
       "    </tr>\n",
       "    <tr>\n",
       "      <th>incident</th>\n",
       "      <th></th>\n",
       "      <th></th>\n",
       "      <th></th>\n",
       "    </tr>\n",
       "  </thead>\n",
       "  <tbody>\n",
       "    <tr>\n",
       "      <th>0</th>\n",
       "      <td>1</td>\n",
       "      <td>0</td>\n",
       "      <td>0</td>\n",
       "    </tr>\n",
       "    <tr>\n",
       "      <th>1</th>\n",
       "      <td>1</td>\n",
       "      <td>0</td>\n",
       "      <td>0</td>\n",
       "    </tr>\n",
       "    <tr>\n",
       "      <th>2</th>\n",
       "      <td>1</td>\n",
       "      <td>4</td>\n",
       "      <td>0</td>\n",
       "    </tr>\n",
       "    <tr>\n",
       "      <th>3</th>\n",
       "      <td>0</td>\n",
       "      <td>3</td>\n",
       "      <td>1</td>\n",
       "    </tr>\n",
       "    <tr>\n",
       "      <th>4</th>\n",
       "      <td>2</td>\n",
       "      <td>0</td>\n",
       "      <td>2</td>\n",
       "    </tr>\n",
       "  </tbody>\n",
       "</table>\n",
       "</div>"
      ],
      "text/plain": [
       "age       n_young  n_mid  n_old\n",
       "incident                       \n",
       "0               1      0      0\n",
       "1               1      0      0\n",
       "2               1      4      0\n",
       "3               0      3      1\n",
       "4               2      0      2"
      ]
     },
     "execution_count": 10,
     "metadata": {},
     "output_type": "execute_result"
    }
   ],
   "source": [
    "# Extract the ages\n",
    "raw_ages = gun_data['participant_age'].str.extractall('\\d+::(?P<age>\\d+)')\n",
    "raw_ages['age'] = raw_ages['age'].astype(int)\n",
    "raw_ages.reset_index(inplace=True)\n",
    "\n",
    "# Count the ages in each group\n",
    "ages = raw_ages.groupby(['level_0', pd.cut(raw_ages['age'], [0, 25, 45, 999])]).count()\n",
    "ages.rename({'age': 'count'}, axis=1, inplace=True)\n",
    "ages.fillna(0, axis=1, inplace=True)\n",
    "ages['count'] = ages['count'].astype(int)\n",
    "\n",
    "# Pivot the table and rename columns\n",
    "ages = ages.reset_index().pivot(index='level_0', columns='age', values='count')\n",
    "ages.index.rename('incident', inplace=True)\n",
    "ages.columns = ages.columns.astype(str)\n",
    "ages.rename({'(0, 25]': 'n_young', '(25, 45]': 'n_mid', '(45, 999]': 'n_old'}, axis=1, inplace=True)\n",
    "\n",
    "print(len(ages))\n",
    "ages.head()"
   ]
  },
  {
   "cell_type": "code",
   "execution_count": 11,
   "metadata": {},
   "outputs": [
    {
     "name": "stdout",
     "output_type": "stream",
     "text": [
      "193047\n"
     ]
    },
    {
     "data": {
      "text/html": [
       "<div>\n",
       "<style scoped>\n",
       "    .dataframe tbody tr th:only-of-type {\n",
       "        vertical-align: middle;\n",
       "    }\n",
       "\n",
       "    .dataframe tbody tr th {\n",
       "        vertical-align: top;\n",
       "    }\n",
       "\n",
       "    .dataframe thead th {\n",
       "        text-align: right;\n",
       "    }\n",
       "</style>\n",
       "<table border=\"1\" class=\"dataframe\">\n",
       "  <thead>\n",
       "    <tr style=\"text-align: right;\">\n",
       "      <th>gender</th>\n",
       "      <th>n_female</th>\n",
       "      <th>n_male</th>\n",
       "    </tr>\n",
       "    <tr>\n",
       "      <th>incident</th>\n",
       "      <th></th>\n",
       "      <th></th>\n",
       "    </tr>\n",
       "  </thead>\n",
       "  <tbody>\n",
       "    <tr>\n",
       "      <th>0</th>\n",
       "      <td>1</td>\n",
       "      <td>3</td>\n",
       "    </tr>\n",
       "    <tr>\n",
       "      <th>1</th>\n",
       "      <td>0</td>\n",
       "      <td>1</td>\n",
       "    </tr>\n",
       "    <tr>\n",
       "      <th>2</th>\n",
       "      <td>0</td>\n",
       "      <td>5</td>\n",
       "    </tr>\n",
       "    <tr>\n",
       "      <th>3</th>\n",
       "      <td>1</td>\n",
       "      <td>3</td>\n",
       "    </tr>\n",
       "    <tr>\n",
       "      <th>4</th>\n",
       "      <td>2</td>\n",
       "      <td>2</td>\n",
       "    </tr>\n",
       "  </tbody>\n",
       "</table>\n",
       "</div>"
      ],
      "text/plain": [
       "gender    n_female  n_male\n",
       "incident                  \n",
       "0                1       3\n",
       "1                0       1\n",
       "2                0       5\n",
       "3                1       3\n",
       "4                2       2"
      ]
     },
     "execution_count": 11,
     "metadata": {},
     "output_type": "execute_result"
    }
   ],
   "source": [
    "# Extract the genders\n",
    "raw_genders = gun_data['participant_gender'].str.extractall('\\d+::(?P<gender>\\w+)')\n",
    "raw_genders.reset_index(inplace=True)\n",
    "\n",
    "# Count the ages in each group\n",
    "genders = raw_genders.groupby(['level_0', 'gender']).count()\n",
    "genders.rename({'match': 'count'}, axis=1, inplace=True)\n",
    "genders['count'] = genders['count'].astype(int)\n",
    "\n",
    "# Pivot the table and rename columns\n",
    "genders = genders.reset_index().pivot(index='level_0', columns='gender', values='count')\n",
    "genders.fillna(0, axis=1, inplace=True)\n",
    "genders.index.rename('incident', inplace=True)\n",
    "genders.columns = genders.columns.astype(str)\n",
    "genders.rename({'Female': 'n_female', 'Male': 'n_male'}, axis=1, inplace=True)\n",
    "genders['n_female'] = genders['n_female'].astype(int)\n",
    "genders['n_male'] = genders['n_male'].astype(int)\n",
    "\n",
    "print(len(genders))\n",
    "genders.head()"
   ]
  },
  {
   "cell_type": "code",
   "execution_count": 12,
   "metadata": {},
   "outputs": [
    {
     "name": "stdout",
     "output_type": "stream",
     "text": [
      "231754\n"
     ]
    }
   ],
   "source": [
    "# Join the data\n",
    "joined_data = pd.concat([gun_data, all_nums, ages, genders], axis=1)\n",
    "\n",
    "# Add the missing columns\n",
    "joined_data['n_unknown_gender'] = joined_data['n_people'] - joined_data['n_female'] - joined_data['n_male']\n",
    "joined_data['n_unknown_age'] = joined_data['n_people'] - joined_data['n_young'] - joined_data['n_mid'] - joined_data['n_old']\n",
    "\n",
    "print(len(joined_data))"
   ]
  },
  {
   "cell_type": "code",
   "execution_count": 13,
   "metadata": {},
   "outputs": [
    {
     "name": "stdout",
     "output_type": "stream",
     "text": [
      "93617\n"
     ]
    }
   ],
   "source": [
    "# Get incidents where there is no information about the people (aka missing gender or missing age data for everyone)\n",
    "missing_data = joined_data[joined_data['n_unknown_gender'].isnull() | joined_data['n_unknown_age'].isnull()]\n",
    "print(len(missing_data))"
   ]
  },
  {
   "cell_type": "code",
   "execution_count": 14,
   "metadata": {},
   "outputs": [],
   "source": [
    "# CAMILLE'S OLD CODE; NOT USED ANYMORE\n",
    "\n",
    "# # For each incident, generate column values for #female, #male, and various age groups\n",
    "# gun_data['n_female'] = gun_data['n_killed'].copy()\n",
    "# gun_data['n_male'] = gun_data['n_killed'].copy()\n",
    "# gun_data['n_unknown_gender'] = gun_data['n_killed'].copy()\n",
    "# gun_data['n_young'] = gun_data['n_killed'].copy()\n",
    "# gun_data['n_mid'] = gun_data['n_killed'].copy()\n",
    "# gun_data['n_old'] = gun_data['n_killed'].copy()\n",
    "# gun_data['n_unknown_age'] = gun_data['n_killed'].copy()\n",
    "# for i in range(len(gun_data)):\n",
    "#     if i % 100 == 0:\n",
    "#         print(\"processed:\", i, \"so far\")\n",
    "#     people = get_people(gun_data.iloc[i])\n",
    "#     values = {'age': 1000, 'gender': \"Unknown\"}\n",
    "#     people = people.fillna(value=values)\n",
    "#     gender_people = people.groupby('gender').count()['age'].to_frame().rename(index=str, columns={\"age\": \"Count\"})\n",
    "#     age_people = people.groupby('age').count()['gender'].to_frame().rename(index=str, columns={\"gender\": \"Count\"})\n",
    "#     age_people['Age'] = age_people.index\n",
    "#     try: \n",
    "#         gun_data['n_female'][i] = gender_people.loc[\"Female\"][0]\n",
    "#     except:\n",
    "#         gun_data['n_female'][i] = 0\n",
    "#     try: \n",
    "#         gun_data['n_male'][i] = gender_people.loc[\"Male\"][0]\n",
    "#     except:\n",
    "#         gun_data['n_male'][i] = 0\n",
    "#     try: \n",
    "#         gun_data['n_unknown_gender'][i] = gender_people.loc[\"Unknown\"][0]\n",
    "#     except:\n",
    "#         gun_data['n_unknown_gender'][i] = 0\n",
    "#     count_young = 0\n",
    "#     count_mid = 0\n",
    "#     count_old = 0\n",
    "#     count_unknown = 0\n",
    "#     for j in range(len(age_people)):\n",
    "#         age = float(age_people.iloc[j][1])\n",
    "#         count = age_people.iloc[j][0]\n",
    "        \n",
    "#         if age < 25:\n",
    "#             count_young += count\n",
    "#         elif age < 45:\n",
    "#             count_mid += count\n",
    "#         elif age < 999:\n",
    "#             count_old += count\n",
    "#         else:\n",
    "#             count_unknown += count\n",
    "#     gun_data['n_young'][i] = count_young\n",
    "#     gun_data['n_mid'][i] = count_mid\n",
    "#     gun_data['n_old'][i] = count_old\n",
    "#     gun_data['n_unknown_age'][i] = count_unknown"
   ]
  },
  {
   "cell_type": "code",
   "execution_count": 15,
   "metadata": {},
   "outputs": [],
   "source": [
    "# Merge Everything\n",
    "merged1 = joined_data.merge(mental_health, left_on='state', right_on='State')\n",
    "merged2 = merged1.merge(gun_safety, left_on='state', right_on='State')\n",
    "merged3 = merged2.merge(gun_ownership, left_on='state', right_on='State')\n",
    "merged4 = merged3.merge(concealed_carry, left_on='state', right_on='State')\n",
    "merged5 = merged4.merge(happiness2, left_on='state', right_on='State_full')\n",
    "merged5 = merged5.drop(columns = ['State_x', 'State_y'])\n"
   ]
  },
  {
   "cell_type": "code",
   "execution_count": 16,
   "metadata": {},
   "outputs": [],
   "source": [
    "final_data = merged5[((merged5['n_killed'] != 0) | (merged5['n_injured'] != 0))]\n",
    "cleanPath = os.path.join(directory, 'data', 'final_data.csv')\n",
    "final_data.to_csv(cleanPath)"
   ]
  },
  {
   "cell_type": "code",
   "execution_count": null,
   "metadata": {},
   "outputs": [],
   "source": []
  }
 ],
 "metadata": {
  "kernelspec": {
   "display_name": "Python 3",
   "language": "python",
   "name": "python3"
  },
  "language_info": {
   "codemirror_mode": {
    "name": "ipython",
    "version": 3
   },
   "file_extension": ".py",
   "mimetype": "text/x-python",
   "name": "python",
   "nbconvert_exporter": "python",
   "pygments_lexer": "ipython3",
   "version": "3.7.1"
  }
 },
 "nbformat": 4,
 "nbformat_minor": 2
}
